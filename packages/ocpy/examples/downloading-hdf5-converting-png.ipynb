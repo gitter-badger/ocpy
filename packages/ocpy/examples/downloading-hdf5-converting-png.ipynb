{
 "cells": [
  {
   "cell_type": "markdown",
   "metadata": {},
   "source": [
    "# Downloading HDF5"
   ]
  },
  {
   "cell_type": "code",
   "execution_count": 2,
   "metadata": {
    "collapsed": true
   },
   "outputs": [],
   "source": [
    "import ocpy.access\n",
    "from ocpy.convert import convert\n",
    "\n",
    "successes, failures = ocpy.access.get_data(token=\"kasthuri11\", resolution=\"0\",\n",
    "                                           x_start=9000, x_stop=9500,\n",
    "                                           y_start=12000, y_stop=12500,\n",
    "                                           z_start=50, z_stop=51)\n",
    "\n",
    "if len(successes) < 1:\n",
    "    print(\"Failed download.\")\n",
    "    raise Exception();\n",
    "\n",
    "hdf5_filename = successes[0]\n",
    "data = ocpy.convert.hdf5.import_hdf5(hdf5_filename)\n",
    "ocpy.convert.png.export_png('tempfile.png', data[0])"
   ]
  }
 ],
 "metadata": {
  "kernelspec": {
   "display_name": "Python 2",
   "language": "python",
   "name": "python2"
  },
  "language_info": {
   "codemirror_mode": {
    "name": "ipython",
    "version": 2
   },
   "file_extension": ".py",
   "mimetype": "text/x-python",
   "name": "python",
   "nbconvert_exporter": "python",
   "pygments_lexer": "ipython2",
   "version": "2.7.10"
  }
 },
 "nbformat": 4,
 "nbformat_minor": 0
}

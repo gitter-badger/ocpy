{
 "cells": [
  {
   "cell_type": "markdown",
   "metadata": {},
   "source": [
    "# Downloading the Kasthuri 2015 CELL Data With `ocpaccess`\n",
    "\n",
    "OCP supplies a Python module called `ocpaccess` that can be used to ease the process of downloading and handling data from the OCP servers.\n",
    "\n",
    "In the following example, we will download the [Kasthuri 2015 CELL data](http://www.openconnectomeproject.org/#!kasthuri11/c12r2) using `ocpaccess`. Look at some of the other files in this directory for some examples of how to manipulate data after downloading it!"
   ]
  },
  {
   "cell_type": "markdown",
   "metadata": {},
   "source": [
    "# Getting Started\n",
    "Before we can use the OCP helper functions, we must import the `ocpaccess` module. This can be found at http://github.com/openconnectome/ocpAccess. Clone that repository or download as zip: It contains a `/python` directory which contains this documentation and the `ocpaccess` module. Move the `ocpaccess/` directory to your project folder. You can tell you've done it successfully when you can `import ocpaccess` without receiving an error. "
   ]
  },
  {
   "cell_type": "code",
   "execution_count": 3,
   "metadata": {
    "collapsed": false
   },
   "outputs": [],
   "source": [
    "import ocpaccess"
   ]
  },
  {
   "cell_type": "markdown",
   "metadata": {},
   "source": [
    "# Finding Dataset Bounds\n",
    "A scientist may choose to start the bounding-box of their data at a point that is not `(0, 0, 0)` for a variety of reasons. Therefore it is important to find the bounds of the data programmatically.\n",
    "\n",
    "`ocpaccess` has a submodule that we can use to get the info about the dataset before attempting to download it. (If you try to download data outside of the bounds of the dataset, the query will fail.)\n",
    "\n",
    "`ocpaccess.download.get_data()` can be used to determine these bounds."
   ]
  },
  {
   "cell_type": "code",
   "execution_count": 4,
   "metadata": {
    "collapsed": false
   },
   "outputs": [
    {
     "name": "stdout",
     "output_type": "stream",
     "text": [
      "{u'1': [10752, 13312], u'0': [21504, 26624], u'3': [2688, 3328], u'2': [5376, 6656], u'5': [672, 832], u'4': [1344, 1664], u'7': [168, 208], u'6': [336, 416]}\n"
     ]
    }
   ],
   "source": [
    "import ocpaccess.download\n",
    "\n",
    "kasthuri11_data = ocpaccess.download.get_info('kasthuri11');\n",
    "print(kasthuri11_data['dataset']['imagesize'])"
   ]
  },
  {
   "cell_type": "markdown",
   "metadata": {},
   "source": [
    "This tells us the upper limits for each zoom level. Let's look at the zoom level of `1`:"
   ]
  },
  {
   "cell_type": "code",
   "execution_count": 5,
   "metadata": {
    "collapsed": false
   },
   "outputs": [
    {
     "name": "stdout",
     "output_type": "stream",
     "text": [
      "[10752, 13312]\n"
     ]
    }
   ],
   "source": [
    "zoom_level_1_upper_bounds = kasthuri11_data['dataset']['imagesize']['1']\n",
    "print(zoom_level_1_upper_bounds)"
   ]
  },
  {
   "cell_type": "markdown",
   "metadata": {},
   "source": [
    "**Now we have the dataset bounds at zoom-level 1. Our next step is to request a file from the server using `ocpaccess.download`.**"
   ]
  },
  {
   "cell_type": "markdown",
   "metadata": {},
   "source": [
    "# Downloading a Dataset\n",
    "`ocpaccess.download` is the module to use for grabbing data from the OCP servers.\n",
    "\n",
    "We'll use the `get_data()` function, with the dataset bounds we collected earier, to download some data. `get_data()` takes a `token` and X,Y,Z bounds (in the format `x_start=##, x_stop=##`) as mandatory parameters. You can also specify the `server` to ping and a `location` on your local harddrive to which to save the incoming data.\n",
    "\n",
    "`ocpaccess` can also prompt you in case your `location` directory is already populated. Specify `ask_before_writing=True` to force it to request permission. This is disabled by default (for use in scripts without human interaction)."
   ]
  },
  {
   "cell_type": "code",
   "execution_count": 7,
   "metadata": {
    "collapsed": false
   },
   "outputs": [
    {
     "name": "stdout",
     "output_type": "stream",
     "text": [
      "Downloading approximately 0.00875 MB.\n",
      "\n",
      "The data will be saved to /data_sample.\n",
      "Continue? [yn] n\n"
     ]
    }
   ],
   "source": [
    "ocpaccess.download.get_data(token=\"kasthuri11\",\n",
    "                            x_start=0, x_stop=100,\n",
    "                            y_start=0, y_stop=100,\n",
    "                            z_start=200, z_stop=201,\n",
    "                            location=\"data_sample\")"
   ]
  },
  {
   "cell_type": "markdown",
   "metadata": {},
   "source": [
    "This code will automatically save to a collection of TIFF files, each a single z-coordinate \"thick\". The hdf5 files that were used to create these TIFFs can be found in `{location}/hdf5/`, and the TIFFs can be found in `{location}/tiff/`."
   ]
  }
 ],
 "metadata": {
  "kernelspec": {
   "display_name": "Python 2",
   "language": "python",
   "name": "python2"
  },
  "language_info": {
   "codemirror_mode": {
    "name": "ipython",
    "version": 2
   },
   "file_extension": ".py",
   "mimetype": "text/x-python",
   "name": "python",
   "nbconvert_exporter": "python",
   "pygments_lexer": "ipython2",
   "version": "2.7.10"
  }
 },
 "nbformat": 4,
 "nbformat_minor": 0
}

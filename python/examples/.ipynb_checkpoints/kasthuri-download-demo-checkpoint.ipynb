{
 "cells": [
  {
   "cell_type": "markdown",
   "metadata": {},
   "source": [
    "# Downloading the Kasthuri 2015 CELL Data With `ocpaccess`\n",
    "\n",
    "OCP supplies a Python module called `ocpaccess` that can be used to ease the process of downloading and handling data from the OCP servers.\n",
    "\n",
    "In the following example, we will download the [Kasthuri 2015 CELL data](http://www.openconnectomeproject.org/#!kasthuri11/c12r2) using `ocpaccess`. Look at some of the other files in this directory for some examples of how to manipulate data after downloading it!"
   ]
  },
  {
   "cell_type": "markdown",
   "metadata": {},
   "source": [
    "# Getting Started\n",
    "Before we can use the OCP helper functions, we must import the `ocpaccess` module. This can be found at `http://github.com/openconnectome/ocpAccess`. Clone that repository or download as zip: It contains a `/python` directory which contains this documentation and the `ocpaccess` module. Move the `ocpaccess/` directory to your project folder. You can tell you've done it successfully when you can `import ocpaccess` without receiving an error. "
   ]
  },
  {
   "cell_type": "code",
   "execution_count": 5,
   "metadata": {
    "collapsed": false
   },
   "outputs": [
    {
     "ename": "ValueError",
     "evalue": "Attempted relative import in non-package",
     "output_type": "error",
     "traceback": [
      "\u001b[0;31m---------------------------------------------------------------------------\u001b[0m",
      "\u001b[0;31mValueError\u001b[0m                                Traceback (most recent call last)",
      "\u001b[0;32m<ipython-input-5-0b403535e947>\u001b[0m in \u001b[0;36m<module>\u001b[0;34m()\u001b[0m\n\u001b[0;32m----> 1\u001b[0;31m \u001b[0;32mfrom\u001b[0m \u001b[0;34m.\u001b[0m\u001b[0;34m.\u001b[0m \u001b[0;32mimport\u001b[0m \u001b[0mocpaccess\u001b[0m\u001b[0;34m\u001b[0m\u001b[0m\n\u001b[0m",
      "\u001b[0;31mValueError\u001b[0m: Attempted relative import in non-package"
     ]
    }
   ],
   "source": [
    "import ocpaccess"
   ]
  }
 ],
 "metadata": {
  "kernelspec": {
   "display_name": "Python 2",
   "language": "python",
   "name": "python2"
  },
  "language_info": {
   "codemirror_mode": {
    "name": "ipython",
    "version": 2
   },
   "file_extension": ".py",
   "mimetype": "text/x-python",
   "name": "python",
   "nbconvert_exporter": "python",
   "pygments_lexer": "ipython2",
   "version": "2.7.10"
  }
 },
 "nbformat": 4,
 "nbformat_minor": 0
}
